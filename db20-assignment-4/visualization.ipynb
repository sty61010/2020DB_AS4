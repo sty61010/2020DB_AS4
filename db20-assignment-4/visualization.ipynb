{
 "cells": [
  {
   "cell_type": "code",
   "execution_count": 36,
   "metadata": {},
   "outputs": [],
   "source": [
    "import csv\n",
    "import pandas as pd\n",
    "import numpy as np\n",
    "import glob \n",
    "import matplotlib.pyplot as plt\n"
   ]
  },
  {
   "cell_type": "code",
   "execution_count": 37,
   "metadata": {},
   "outputs": [],
   "source": [
    "def Plot_Data(plt, data_x, data_y, label):\n",
    "    plt.xlabel('time(sec)')\n",
    "    plt.ylabel('throughput(txs)')\n",
    "#     plt.plot(data_x, data_y, '-', color='red', label=input_file.strip(\".csv\"))\n",
    "    plt.plot(data_x, data_y, label=label)\n",
    "    plt.legend(loc='best', prop={'size':12})\n",
    "#     plt.savefig(filename+\".png\", dpi=300)\n",
    "#     plt.show()"
   ]
  },
  {
   "cell_type": "code",
   "execution_count": 38,
   "metadata": {},
   "outputs": [
    {
     "data": {
      "text/plain": [
       "<Figure size 1500x1000 with 0 Axes>"
      ]
     },
     "metadata": {},
     "output_type": "display_data"
    }
   ],
   "source": [
    "input_files = glob.glob('../demo/*.csv')\n",
    "plt.figure(figsize=[15,10],dpi=100)\n",
    "count=0\n",
    "for input_file in input_files:\n",
    "    count+=1\n",
    "#     print(input_file)\n",
    "    file = pd.read_csv(input_file, encoding = 'utf8')\n",
    "#     print(file)\n",
    "#     print(file['time(sec)'])\n",
    "#     print(file[' throughput(txs)'])\n",
    "    data_y = np.array(file[' throughput(txs)'][:-1]).astype('float')\n",
    "    data_x = np.array(file['time(sec)'][:-1]).astype('float')\n",
    "#     print(data_x)\n",
    "#     print(data_y)\n",
    "#     plt.xlabel('time(sec)')\n",
    "#     plt.ylabel('throughput(txs)')\n",
    "#     plt.plot(data_x, data_y, label=input_file.strip(\".csv\"))\n",
    "#     plt.legend(loc='best', prop={'size':6})\n",
    "    Plot_Data(plt, data_x, data_y, input_file.strip(\".csv\"))\n",
    "    \n"
   ]
  },
  {
   "cell_type": "code",
   "execution_count": 39,
   "metadata": {},
   "outputs": [],
   "source": [
    "def Plot_Data_Latency(plt, data_x, data_y, label):\n",
    "    plt.xlabel('time(sec)')\n",
    "    plt.ylabel(' avg_latency(ms)')\n",
    "#     plt.plot(data_x, data_y, '-', color='red', label=input_file.strip(\".csv\"))\n",
    "    plt.plot(data_x, data_y, label=label)\n",
    "    plt.legend(loc='best', prop={'size':12})\n",
    "#     plt.savefig(filename+\".png\", dpi=300)\n",
    "#     plt.show()"
   ]
  },
  {
   "cell_type": "code",
   "execution_count": 40,
   "metadata": {},
   "outputs": [
    {
     "data": {
      "text/plain": [
       "<Figure size 1500x1000 with 0 Axes>"
      ]
     },
     "metadata": {},
     "output_type": "display_data"
    }
   ],
   "source": [
    "input_files = glob.glob('../demo/*.csv')\n",
    "plt.figure(figsize=[15,10],dpi=100)\n",
    "count=0\n",
    "for input_file in input_files:\n",
    "    count+=1\n",
    "#     print(input_file)\n",
    "    file = pd.read_csv(input_file, encoding = 'utf8')\n",
    "#     print(file)\n",
    "#     print(file['time(sec)'])\n",
    "#     print(file[' throughput(txs)'])\n",
    "    data_y = np.array(file[' avg_latency(ms)'][:-1]).astype('float')\n",
    "    data_x = np.array(file['time(sec)'][:-1]).astype('float')\n",
    "#     print(data_x)\n",
    "#     print(data_y)\n",
    "#     plt.xlabel('time(sec)')\n",
    "#     plt.ylabel('throughput(txs)')\n",
    "#     plt.plot(data_x, data_y, label=input_file.strip(\".csv\"))\n",
    "#     plt.legend(loc='best', prop={'size':6})\n",
    "    Plot_Data_Latency(plt, data_x, data_y, input_file.strip(\".csv\"))\n",
    "    \n"
   ]
  },
  {
   "cell_type": "code",
   "execution_count": null,
   "metadata": {},
   "outputs": [],
   "source": []
  }
 ],
 "metadata": {
  "kernelspec": {
   "display_name": "Python 3",
   "language": "python",
   "name": "python3"
  },
  "language_info": {
   "codemirror_mode": {
    "name": "ipython",
    "version": 3
   },
   "file_extension": ".py",
   "mimetype": "text/x-python",
   "name": "python",
   "nbconvert_exporter": "python",
   "pygments_lexer": "ipython3",
   "version": "3.7.4"
  }
 },
 "nbformat": 4,
 "nbformat_minor": 4
}
